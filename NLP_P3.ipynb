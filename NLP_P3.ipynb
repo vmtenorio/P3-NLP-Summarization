{
 "cells": [
  {
   "cell_type": "code",
   "execution_count": 1,
   "metadata": {},
   "outputs": [],
   "source": [
    "import nltk\n",
    "from nltk.probability import FreqDist\n",
    "from nltk.stem import PorterStemmer\n",
    "from nltk.corpus import wordnet\n",
    "\n",
    "import stanza\n",
    "\n",
    "from tensorflow_datasets.summarization import CnnDailymail\n",
    "\n",
    "from sklearn.decomposition import PCA\n",
    "\n",
    "import transformers\n",
    "\n",
    "import rouge\n",
    "\n",
    "import numpy as np\n",
    "import matplotlib.pyplot as plt"
   ]
  },
  {
   "cell_type": "code",
   "execution_count": 2,
   "metadata": {},
   "outputs": [
    {
     "name": "stderr",
     "output_type": "stream",
     "text": [
      "INFO:absl:Load dataset info from /home/victor/tensorflow_datasets/cnn_dailymail/3.1.0\n"
     ]
    }
   ],
   "source": [
    "daily_mail = CnnDailymail()"
   ]
  },
  {
   "cell_type": "code",
   "execution_count": 3,
   "metadata": {},
   "outputs": [
    {
     "name": "stderr",
     "output_type": "stream",
     "text": [
      "INFO:absl:Reusing dataset cnn_dailymail (/home/victor/tensorflow_datasets/cnn_dailymail/3.1.0)\n"
     ]
    }
   ],
   "source": [
    "daily_mail.download_and_prepare()"
   ]
  },
  {
   "cell_type": "code",
   "execution_count": 4,
   "metadata": {},
   "outputs": [
    {
     "name": "stderr",
     "output_type": "stream",
     "text": [
      "INFO:absl:Constructing tf.data.Dataset for split None, from /home/victor/tensorflow_datasets/cnn_dailymail/3.1.0\n"
     ]
    }
   ],
   "source": [
    "ds = daily_mail.as_dataset()"
   ]
  },
  {
   "cell_type": "code",
   "execution_count": 5,
   "metadata": {},
   "outputs": [],
   "source": [
    "for art in ds['test']:\n",
    "    text = art['article'].numpy().decode()\n",
    "    highlights = art['highlights'].numpy().decode()\n",
    "    break"
   ]
  },
  {
   "cell_type": "code",
   "execution_count": 6,
   "metadata": {},
   "outputs": [
    {
     "name": "stdout",
     "output_type": "stream",
     "text": [
      "Ever noticed how plane seats appear to be getting smaller and smaller? With increasing numbers of people taking to the skies, some experts are questioning if having such packed out planes is putting passengers at risk. They say that the shrinking space on aeroplanes is not only uncomfortable - it's putting our health and safety in danger. More than squabbling over the arm rest, shrinking space on planes putting our health and safety in danger? This week, a U.S consumer advisory group set up by the Department of Transportation said at a public hearing that while the government is happy to set standards for animals flying on planes, it doesn't stipulate a minimum amount of space for humans. 'In a world where animals have more rights to space and food than humans,' said Charlie Leocha, consumer representative on the committee. 'It is time that the DOT and FAA take a stand for humane treatment of passengers.' But could crowding on planes lead to more serious issues than fighting for space in the overhead lockers, crashing elbows and seat back kicking? Tests conducted by the FAA use planes with a 31 inch pitch, a standard which on some airlines has decreased . Many economy seats on United Airlines have 30 inches of room, while some airlines offer as little as 28 inches . Cynthia Corbertt, a human factors researcher with the Federal Aviation Administration, that it conducts tests on how quickly passengers can leave a plane. But these tests are conducted using planes with 31 inches between each row of seats, a standard which on some airlines has decreased, reported the Detroit News. The distance between two seats from one point on a seat to the same point on the seat behind it is known as the pitch. While most airlines stick to a pitch of 31 inches or above, some fall below this. While United Airlines has 30 inches of space, Gulf Air economy seats have between 29 and 32 inches, Air Asia offers 29 inches and Spirit Airlines offers just 28 inches. British Airways has a seat pitch of 31 inches, while easyJet has 29 inches, Thomson's short haul seat pitch is 28 inches, and Virgin Atlantic's is 30-31.\n"
     ]
    }
   ],
   "source": [
    "print(text)"
   ]
  },
  {
   "cell_type": "code",
   "execution_count": 7,
   "metadata": {},
   "outputs": [
    {
     "name": "stdout",
     "output_type": "stream",
     "text": [
      "Experts question if  packed out planes are putting passengers at risk .\n",
      "U.S consumer advisory group says minimum space must be stipulated .\n",
      "Safety tests conducted on planes with more leg room than airlines offer .\n"
     ]
    }
   ],
   "source": [
    "print(highlights)"
   ]
  },
  {
   "cell_type": "markdown",
   "metadata": {},
   "source": [
    "# Utils"
   ]
  },
  {
   "cell_type": "code",
   "execution_count": 72,
   "metadata": {},
   "outputs": [],
   "source": [
    "class Syns:\n",
    "    def __init__(self):\n",
    "        self.syns = {}\n",
    "        self.inv_syns = {}\n",
    "        self.total_syns = []\n",
    "    \n",
    "    def get_syns(self, word):\n",
    "        if word in self.total_syns:\n",
    "            return self.inv_syns[word]\n",
    "        w_syns = []\n",
    "        for synset in wordnet.synsets(word):\n",
    "            for lem in synset.lemmas():\n",
    "                w_syns.append(lem.name())\n",
    "                if lem.name() not in self.inv_syns.keys():\n",
    "                    self.inv_syns[lem.name()] = word\n",
    "        w_syns_uniq = list(set(w_syns))\n",
    "        self.syns[word] = w_syns_uniq\n",
    "        self.total_syns.extend(w_syns_uniq)\n",
    "        return word"
   ]
  },
  {
   "cell_type": "code",
   "execution_count": 73,
   "metadata": {},
   "outputs": [],
   "source": [
    "def proc_text(text):\n",
    "    stopwords_en = nltk.corpus.stopwords.words('english')\n",
    "    nlp = stanza.Pipeline(lang='en', processors='tokenize,ner,pos,lemma')\n",
    "    doc = nlp(text)\n",
    "    tokens = []\n",
    "    sents = []\n",
    "    syns = {}\n",
    "    total_syns = []\n",
    "    syns = Syns()\n",
    "    in_ne = False\n",
    "    for s in doc.sentences:\n",
    "        sent = []\n",
    "        named_ent = []\n",
    "        for t in s.tokens:\n",
    "            if t.ner != 'O':\n",
    "                in_ne = True \n",
    "                named_ent.append(t.text)\n",
    "                continue\n",
    "            elif t.ner == 'O' and in_ne:\n",
    "                in_ne = False\n",
    "                sent.append(\" \".join(named_ent))\n",
    "                named_ent = []\n",
    "            if t.text.lower() in stopwords_en or not t.text.isalpha():\n",
    "                continue\n",
    "            w = syns.get_syns(t.words[0].lemma)\n",
    "            sent.append(w)\n",
    "        if len(named_ent) > 0:\n",
    "            sent.append(\" \".join(named_ent))\n",
    "        tokens.append(sent)\n",
    "        sents.append(s.text)\n",
    "    tokens_flat = [item for s in tokens for item in s]\n",
    "    return tokens, tokens_flat, sents"
   ]
  },
  {
   "cell_type": "markdown",
   "metadata": {},
   "source": [
    "# Simple freq summary"
   ]
  },
  {
   "cell_type": "code",
   "execution_count": 74,
   "metadata": {},
   "outputs": [],
   "source": [
    "def freq_summary(text, n):\n",
    "    \"\"\"\n",
    "    Returns the summary of the text according to the frequency of the in the whole text\n",
    "    Sentence importance is calculated as the sum of the frequency of its words\n",
    "    Picks the n first sentences sorted by importance\n",
    "    \"\"\"\n",
    "    \n",
    "    words, words_flattened, sents = proc_text(text)\n",
    "    word_count = nltk.FreqDist(words_flattened)\n",
    "    \n",
    "    max_freq = max(word_count.values())\n",
    "    \n",
    "    sent_scores = {}\n",
    "    for i, s in enumerate(sents):\n",
    "        score = 0\n",
    "        for w in words[i]:\n",
    "            score += word_count[w]/max_freq\n",
    "        sent_scores[s] = score\n",
    "\n",
    "    sent_scores_sorted = {k: v for k,v in sorted(sent_scores.items(), key=lambda x: x[1], reverse=True)}\n",
    "\n",
    "    # Get only the n sentences with the highest score\n",
    "    sents_selected = []\n",
    "    count = 0\n",
    "    for k in sent_scores_sorted.keys():\n",
    "        sents_selected.append(k)\n",
    "        count += 1\n",
    "        if count == n:\n",
    "            break\n",
    "\n",
    "    # Order the summary as in the original text\n",
    "    summary = \"\"\n",
    "    for s in sents:\n",
    "        if s in sents_selected:\n",
    "            summary += s + \" \"\n",
    "    return summary[:-1]"
   ]
  },
  {
   "cell_type": "code",
   "execution_count": 75,
   "metadata": {
    "tags": []
   },
   "outputs": [
    {
     "name": "stderr",
     "output_type": "stream",
     "text": [
      "2021-03-21 18:42:32 INFO: Loading these models for language: en (English):\n",
      "=========================\n",
      "| Processor | Package   |\n",
      "-------------------------\n",
      "| tokenize  | combined  |\n",
      "| pos       | combined  |\n",
      "| lemma     | combined  |\n",
      "| ner       | ontonotes |\n",
      "=========================\n",
      "\n",
      "INFO:stanza:Loading these models for language: en (English):\n",
      "=========================\n",
      "| Processor | Package   |\n",
      "-------------------------\n",
      "| tokenize  | combined  |\n",
      "| pos       | combined  |\n",
      "| lemma     | combined  |\n",
      "| ner       | ontonotes |\n",
      "=========================\n",
      "\n",
      "2021-03-21 18:42:32 INFO: Use device: cpu\n",
      "INFO:stanza:Use device: cpu\n",
      "2021-03-21 18:42:32 INFO: Loading: tokenize\n",
      "INFO:stanza:Loading: tokenize\n",
      "2021-03-21 18:42:32 INFO: Loading: pos\n",
      "INFO:stanza:Loading: pos\n",
      "2021-03-21 18:42:33 INFO: Loading: lemma\n",
      "INFO:stanza:Loading: lemma\n",
      "2021-03-21 18:42:33 INFO: Loading: ner\n",
      "INFO:stanza:Loading: ner\n",
      "2021-03-21 18:42:33 INFO: Done loading processors!\n",
      "INFO:stanza:Done loading processors!\n"
     ]
    },
    {
     "name": "stdout",
     "output_type": "stream",
     "text": [
      "sky ['pitch', 'toss', 'sky', 'flip']\n",
      "This week, a U.S consumer advisory group set up by the Department of Transportation said at a public hearing that while the government is happy to set standards for animals flying on planes, it doesn't stipulate a minimum amount of space for humans. But could crowding on planes lead to more serious issues than fighting for space in the overhead lockers, crashing elbows and seat back kicking? But these tests are conducted using planes with 31 inches between each row of seats, a standard which on some airlines has decreased, reported the Detroit News. The distance between two seats from one point on a seat to the same point on the seat behind it is known as the pitch. British Airways has a seat pitch of 31 inches, while easyJet has 29 inches, Thomson's short haul seat pitch is 28 inches, and Virgin Atlantic's is 30-31.\n"
     ]
    }
   ],
   "source": [
    "summary = freq_summary(text, 5)\n",
    "print(summary)"
   ]
  },
  {
   "cell_type": "code",
   "execution_count": 56,
   "metadata": {},
   "outputs": [],
   "source": [
    "scorer = rouge.Rouge(metrics=['rouge-n', 'rouge-l', 'rouge-w'],\n",
    "                       max_n=4,\n",
    "                       limit_length=True,\n",
    "                       length_limit=100,\n",
    "                       length_limit_type='words',\n",
    "                       apply_avg=False,\n",
    "                       apply_best=False,\n",
    "                       alpha=0.5, # Default F1_score\n",
    "                       weight_factor=1.2,\n",
    "                       stemming=True)"
   ]
  },
  {
   "cell_type": "code",
   "execution_count": 57,
   "metadata": {},
   "outputs": [
    {
     "data": {
      "text/plain": [
       "{'rouge-3': [{'f': [0.045454545454545456], 'p': [0.03], 'r': [0.09375]}],\n",
       " 'rouge-1': [{'f': [0.27941176470588236],\n",
       "   'p': [0.18627450980392157],\n",
       "   'r': [0.5588235294117647]}],\n",
       " 'rouge-2': [{'f': [0.08955223880597014],\n",
       "   'p': [0.0594059405940594],\n",
       "   'r': [0.18181818181818182]}],\n",
       " 'rouge-4': [{'f': [0.030769230769230767],\n",
       "   'p': [0.020202020202020204],\n",
       "   'r': [0.06451612903225806]}],\n",
       " 'rouge-l': [{'f': [0.2729469880905778],\n",
       "   'p': [0.19110551484561547],\n",
       "   'r': [0.477391042107472]}],\n",
       " 'rouge-w': [{'f': [0.13540951866615092],\n",
       "   'p': [0.10438726153618],\n",
       "   'r': [0.19266718449614734]}]}"
      ]
     },
     "execution_count": 57,
     "metadata": {},
     "output_type": "execute_result"
    }
   ],
   "source": [
    "scorer.get_scores([summary], [highlights])"
   ]
  },
  {
   "cell_type": "markdown",
   "metadata": {},
   "source": [
    "# SemPCA-Summarizer"
   ]
  },
  {
   "cell_type": "markdown",
   "metadata": {},
   "source": [
    "From [link](https://rua.ua.es/dspace/bitstream/10045/86730/1/2018_Alcon_Lloret_CompInform.pdf)"
   ]
  },
  {
   "cell_type": "code",
   "execution_count": 66,
   "metadata": {},
   "outputs": [],
   "source": [
    "def sempca_summary(text, n_sents):\n",
    "    words, words_flattened, sents = proc_text(text)\n",
    "    words_uniq = list(set(words_flattened))\n",
    "    n_words = len(words_uniq)\n",
    "    \n",
    "    word_mat = np.zeros((len(sents), n_words))\n",
    "    for i in range(len(sents)):\n",
    "        for w in words[i]:\n",
    "            word_mat[i,words_uniq.index(w)] += 1\n",
    "    \n",
    "    # Calculating the Covariance Matrix and PCA from it\n",
    "    cov_mat = np.cov(word_mat.T)\n",
    "    pca = PCA(n_components=1)\n",
    "    cov_pca = pca.fit_transform(cov_mat)\n",
    "    ord_list = [words_uniq[i] for i in np.argsort(cov_pca.reshape(-1))[::-1]]\n",
    "    print(ord_list)\n",
    "    \n",
    "    # Heuristic 1 - One sentence in which an important term appears\n",
    "    sents_h1 = []\n",
    "    for i in range(n_sents):\n",
    "        concept = ord_list[i]\n",
    "        for j in range(len(sents)):\n",
    "            if concept in words[j] and sents[j] not in sents_h1:\n",
    "                sents_h1.append(sents[j])\n",
    "                break\n",
    "    summary_h1 = \" \".join(sents_h1)\n",
    "    \n",
    "    # Heuristic 2 - only the first sentence in which an important term appears\n",
    "    sents_h2 = []\n",
    "    idx = 0\n",
    "    while True:\n",
    "        if idx == n_sents:\n",
    "            break\n",
    "        concept = ord_list[idx]\n",
    "        for j in range(len(sents)):\n",
    "            if concept in words[j] and sents[j] not in sents_h1:\n",
    "                sents_h2.append(sents[j])\n",
    "                break\n",
    "            elif concept in words[j] and sents[j] in sents_h1:\n",
    "                break\n",
    "        idx += 1\n",
    "    summary_h2 = \" \".join(sents_h2)\n",
    "    \n",
    "    # Heuristic 3 - all the sentences in which the most important term appears\n",
    "    sents_h3 = []\n",
    "    concept = ord_list[0]\n",
    "    for j in range(len(sents)):\n",
    "        if concept in words[j]:\n",
    "            sents_h3.append(sents[j])\n",
    "    summary_h3 = \" \".join(sents_h3)\n",
    "    \n",
    "    # Heuristic 4 - all the sentences in which the two most important terms appear\n",
    "    sents_h4 = []\n",
    "    concept_1 = ord_list[0]\n",
    "    concept_2 = ord_list[1]\n",
    "    for j in range(len(sents)):\n",
    "        if concept_1 in words[j] and concept_2 in words[j]:\n",
    "            print(concept_1, concept_2)\n",
    "            print(sents[j])\n",
    "            print(words[j])\n",
    "            sents_h4.append(sents[j])\n",
    "    summary_h4 = \" \".join(sents_h4)\n",
    "    \n",
    "    return summary_h1, summary_h1, summary_h3, summary_h4"
   ]
  },
  {
   "cell_type": "code",
   "execution_count": 67,
   "metadata": {},
   "outputs": [
    {
     "name": "stderr",
     "output_type": "stream",
     "text": [
      "2021-03-21 18:36:54 INFO: Loading these models for language: en (English):\n",
      "=========================\n",
      "| Processor | Package   |\n",
      "-------------------------\n",
      "| tokenize  | combined  |\n",
      "| pos       | combined  |\n",
      "| lemma     | combined  |\n",
      "| ner       | ontonotes |\n",
      "=========================\n",
      "\n",
      "INFO:stanza:Loading these models for language: en (English):\n",
      "=========================\n",
      "| Processor | Package   |\n",
      "-------------------------\n",
      "| tokenize  | combined  |\n",
      "| pos       | combined  |\n",
      "| lemma     | combined  |\n",
      "| ner       | ontonotes |\n",
      "=========================\n",
      "\n",
      "2021-03-21 18:36:54 INFO: Use device: cpu\n",
      "INFO:stanza:Use device: cpu\n",
      "2021-03-21 18:36:54 INFO: Loading: tokenize\n",
      "INFO:stanza:Loading: tokenize\n",
      "2021-03-21 18:36:54 INFO: Loading: pos\n",
      "INFO:stanza:Loading: pos\n",
      "2021-03-21 18:36:54 INFO: Loading: lemma\n",
      "INFO:stanza:Loading: lemma\n",
      "2021-03-21 18:36:54 INFO: Loading: ner\n",
      "INFO:stanza:Loading: ner\n",
      "2021-03-21 18:36:58 INFO: Done loading processors!\n",
      "INFO:stanza:Done loading processors!\n"
     ]
    },
    {
     "name": "stdout",
     "output_type": "stream",
     "text": [
      "['seat', 'sky', 'point', '29 inches', 'one', 'two', 'know', 'offer', '31 inches', 'haul', 'British Airways', 'Thomson', '28 inches', \"Virgin Atlantic 's\", 'easy', 'Jet', '30-31', 'short', 'economy', 'United Airlines', '30 inches', 'Air Asia', 'just 28 inches', 'between 29 and 32 inches', 'Gulf Air', 'Spirit Airlines', 'airline', 'as little as 28 inches', 'room', 'many', 'smaller', 'ever', 'notice', 'appear', 'row', 'report', 'the Detroit News', 'back', 'overhead', 'fight', 'locker', 'crowd', 'kick', 'could', 'serious', 'crash', 'elbow', 'decrease', 'use', '31 inch', 'humane', 'time', 'treatment', 'DOT', 'stand', 'FAA', 'get', 'pack', 'expert', 'increase', 'people', 'question', 'quickly', 'the Federal Aviation Administration', 'factor', 'Cynthia Corbertt', 'researcher', 'test', 'committee', 'representative', 'rights', 'food', 'Charlie Leocha', 'arm', 'squabble', 'rest', 'uncomfortable', 'space', 'lead', 'passenger', 'health', 'shrink', 'safety', 'fly', 'the Department of Transportation', 'happy', 'U.S', 'advisory', 'stipulate', 'group', 'minimum', 'hearing', 'government', 'This week', 'standard', 'risk', 'number', 'consumer', 'public', 'animal', 'human', 'say', 'plane', 'put']\n",
      "seat sky\n",
      "The distance between two seats from one point on a seat to the same point on the seat behind it is known as the pitch.\n",
      "['space', 'two', 'seat', 'one', 'point', 'seat', 'point', 'seat', 'seat', 'know', 'sky']\n",
      "seat sky\n",
      "British Airways has a seat pitch of 31 inches, while easyJet has 29 inches, Thomson's short haul seat pitch is 28 inches, and Virgin Atlantic's is 30-31.\n",
      "['British Airways', 'seat', 'sky', '31 inches', 'easy', 'Jet', '29 inches', 'Thomson', 'short', 'haul', 'seat', 'sky', '28 inches', \"Virgin Atlantic 's\", '30-31']\n"
     ]
    }
   ],
   "source": [
    "sh1, sh2, sh3, sh4 = sempca_summary(text, 5)"
   ]
  },
  {
   "cell_type": "code",
   "execution_count": 60,
   "metadata": {},
   "outputs": [
    {
     "name": "stdout",
     "output_type": "stream",
     "text": [
      "Ever noticed how plane seats appear to be getting smaller and smaller? With increasing numbers of people taking to the skies, some experts are questioning if having such packed out planes is putting passengers at risk. The distance between two seats from one point on a seat to the same point on the seat behind it is known as the pitch. While United Airlines has 30 inches of space, Gulf Air economy seats have between 29 and 32 inches, Air Asia offers 29 inches and Spirit Airlines offers just 28 inches.\n"
     ]
    }
   ],
   "source": [
    "print(sh1)"
   ]
  },
  {
   "cell_type": "code",
   "execution_count": 61,
   "metadata": {},
   "outputs": [
    {
     "name": "stdout",
     "output_type": "stream",
     "text": [
      "Ever noticed how plane seats appear to be getting smaller and smaller? With increasing numbers of people taking to the skies, some experts are questioning if having such packed out planes is putting passengers at risk. The distance between two seats from one point on a seat to the same point on the seat behind it is known as the pitch. While United Airlines has 30 inches of space, Gulf Air economy seats have between 29 and 32 inches, Air Asia offers 29 inches and Spirit Airlines offers just 28 inches.\n"
     ]
    }
   ],
   "source": [
    "print(sh2)"
   ]
  },
  {
   "cell_type": "code",
   "execution_count": 62,
   "metadata": {},
   "outputs": [
    {
     "name": "stdout",
     "output_type": "stream",
     "text": [
      "Ever noticed how plane seats appear to be getting smaller and smaller? But could crowding on planes lead to more serious issues than fighting for space in the overhead lockers, crashing elbows and seat back kicking? Many economy seats on United Airlines have 30 inches of room, while some airlines offer as little as 28 inches . But these tests are conducted using planes with 31 inches between each row of seats, a standard which on some airlines has decreased, reported the Detroit News. The distance between two seats from one point on a seat to the same point on the seat behind it is known as the pitch. While United Airlines has 30 inches of space, Gulf Air economy seats have between 29 and 32 inches, Air Asia offers 29 inches and Spirit Airlines offers just 28 inches. British Airways has a seat pitch of 31 inches, while easyJet has 29 inches, Thomson's short haul seat pitch is 28 inches, and Virgin Atlantic's is 30-31.\n"
     ]
    }
   ],
   "source": [
    "print(sh3)"
   ]
  },
  {
   "cell_type": "code",
   "execution_count": 63,
   "metadata": {},
   "outputs": [
    {
     "name": "stdout",
     "output_type": "stream",
     "text": [
      "The distance between two seats from one point on a seat to the same point on the seat behind it is known as the pitch. British Airways has a seat pitch of 31 inches, while easyJet has 29 inches, Thomson's short haul seat pitch is 28 inches, and Virgin Atlantic's is 30-31.\n"
     ]
    }
   ],
   "source": [
    "print(sh4)"
   ]
  },
  {
   "cell_type": "markdown",
   "metadata": {},
   "source": [
    "# Transformers"
   ]
  },
  {
   "cell_type": "markdown",
   "metadata": {},
   "source": [
    "ADVERTENCIA\n",
    "\n",
    "Estas celdas de transformers son muy pesadas y requieren muchos recursos computacionales, ejecútense con cuidado"
   ]
  },
  {
   "cell_type": "code",
   "execution_count": 101,
   "metadata": {},
   "outputs": [
    {
     "name": "stderr",
     "output_type": "stream",
     "text": [
      "/usr/local/lib/python3.8/dist-packages/transformers/models/bart/configuration_bart.py:177: UserWarning: Please make sure the config includes `forced_bos_token_id=0` in future versions.The config can simply be saved and uploaded again to be fixed.\n",
      "  warnings.warn(\n"
     ]
    }
   ],
   "source": [
    "summarizer = transformers.pipeline(\"summarization\")"
   ]
  },
  {
   "cell_type": "code",
   "execution_count": 102,
   "metadata": {},
   "outputs": [],
   "source": [
    "summary_trans = summarizer(text)"
   ]
  },
  {
   "cell_type": "code",
   "execution_count": 103,
   "metadata": {},
   "outputs": [
    {
     "name": "stdout",
     "output_type": "stream",
     "text": [
      " U.S consumer advisory group set up by the Department of Transportation said that while the government is happy to set standards for animals flying on planes, it doesn't stipulate a minimum amount of space for humans . Many economy seats on United Airlines have 30 inches of room, while some airlines offer as little as 28 inches .\n"
     ]
    }
   ],
   "source": [
    "print(summary_trans[0]['summary_text'])"
   ]
  },
  {
   "cell_type": "code",
   "execution_count": 48,
   "metadata": {},
   "outputs": [
    {
     "data": {
      "text/plain": [
       "{'rouge-4': [{'f': [0.16993464052287582],\n",
       "   'p': [0.23636363636363636],\n",
       "   'r': [0.1326530612244898]}],\n",
       " 'rouge-3': [{'f': [0.1935483870967742],\n",
       "   'p': [0.26785714285714285],\n",
       "   'r': [0.15151515151515152]}],\n",
       " 'rouge-2': [{'f': [0.24203821656050953],\n",
       "   'p': [0.3333333333333333],\n",
       "   'r': [0.19]}],\n",
       " 'rouge-1': [{'f': [0.37735849056603776],\n",
       "   'p': [0.5172413793103449],\n",
       "   'r': [0.297029702970297]}],\n",
       " 'rouge-l': [{'f': [0.3049547793132383],\n",
       "   'p': [0.39455238487722044],\n",
       "   'r': [0.24851933870348156]}],\n",
       " 'rouge-w': [{'f': [0.10993032571970797],\n",
       "   'p': [0.29586980794867224],\n",
       "   'r': [0.06750609633623593]}]}"
      ]
     },
     "execution_count": 48,
     "metadata": {},
     "output_type": "execute_result"
    }
   ],
   "source": [
    "scorer.get_scores([summary_trans[0]['summary_text']], [text])"
   ]
  },
  {
   "cell_type": "markdown",
   "metadata": {},
   "source": [
    "# Plotting Results"
   ]
  },
  {
   "cell_type": "code",
   "execution_count": 222,
   "metadata": {},
   "outputs": [],
   "source": [
    "class Results:\n",
    "\n",
    "    \"\"\"Util class to store and plot the results obtained by the algorithms\"\"\"\n",
    "\n",
    "    def __init__(self):\n",
    "        self.results = {}\n",
    "\n",
    "        # Invariant basic metrics calculated by ROUGE, namely\n",
    "        # F-Score, Precision and Recall\n",
    "        self.basic_metrics = ['f', 'p', 'r']\n",
    "        \n",
    "        # Values for plotting\n",
    "        self.metric_names = ['Valor-F', 'Precisión', 'Exhaustividad']\n",
    "        self.colors = ['b', 'g', 'r']\n",
    "\n",
    "\n",
    "    def init_results(self, scores, sum_type):\n",
    "        self.results[sum_type] = {}\n",
    "        # Rouge metrics can change depending on settings, so I initialize them\n",
    "        # dinamically\n",
    "        self.rouge_metrics = []\n",
    "        for k in scores.keys():\n",
    "            self.results[sum_type][k] = {}\n",
    "            self.rouge_metrics.append(k)\n",
    "            for met in scores[k][0].keys():\n",
    "                self.results[sum_type][k][met] = []\n",
    "\n",
    "    def update_results(self, scores, sum_type):\n",
    "        if sum_type not in self.results:\n",
    "            self.init_results(scores, sum_type)\n",
    "        for i, rouge_metric in enumerate(scores.keys()):\n",
    "            for j, metric in enumerate(scores[rouge_metric][0].keys()):\n",
    "                self.results[sum_type][rouge_metric][metric].append(scores[rouge_metric][0][metric][0])\n",
    "\n",
    "    def plot_results(self):\n",
    "        f, ax = plt.subplots(len(self.rouge_metrics), 1, sharex=True, figsize=(12,12))\n",
    "        x_axis = np.arange(len(self.results))\n",
    "\n",
    "        for i in range(len(self.rouge_metrics)):\n",
    "            #ax[i].set_title(self.rouge_metrics[i].capitalize())\n",
    "            ax[i].set_ylabel(self.rouge_metrics[i].capitalize())\n",
    "            for j, met in enumerate(self.basic_metrics):\n",
    "                to_plot = [np.mean(self.results[k][self.rouge_metrics[i]][met]) for k in self.results.keys()]\n",
    "                ax[i].bar(x=x_axis + .3*(j-1), height=to_plot, color=self.colors[j], width=0.3, label=self.metric_names[j])\n",
    "\n",
    "        plt.sca(ax[0])\n",
    "        plt.setp(ax, xticks=x_axis, xticklabels=[x.capitalize() for x in self.results.keys()])\n",
    "        plt.legend()"
   ]
  },
  {
   "cell_type": "code",
   "execution_count": 223,
   "metadata": {},
   "outputs": [],
   "source": [
    "results = Results()"
   ]
  },
  {
   "cell_type": "code",
   "execution_count": 229,
   "metadata": {},
   "outputs": [],
   "source": [
    "results.update_results(scorer.get_scores([summary], [highlights]),'freq')\n",
    "results.update_results(scorer.get_scores([sh1], [highlights]),'pca_h1')\n",
    "results.update_results(scorer.get_scores([sh2], [highlights]),'pca_h2')\n",
    "results.update_results(scorer.get_scores([sh3], [highlights]),'pca_h3')\n",
    "results.update_results(scorer.get_scores([sh4], [highlights]),'pca_h4')\n",
    "results.update_results(scorer.get_scores([summary_trans[0]['summary_text']], [highlights]),'trans')"
   ]
  },
  {
   "cell_type": "code",
   "execution_count": 230,
   "metadata": {},
   "outputs": [
    {
     "data": {
      "image/png": "[encoded data removed]",
      "text/plain": [
       "<Figure size 864x864 with 6 Axes>"
      ]
     },
     "metadata": {
      "needs_background": "light"
     },
     "output_type": "display_data"
    }
   ],
   "source": [
    "results.plot_results()"
   ]
  },
  {
   "cell_type": "code",
   "execution_count": null,
   "metadata": {},
   "outputs": [],
   "source": []
  }
 ],
 "metadata": {
  "kernelspec": {
   "display_name": "Python 3",
   "language": "python",
   "name": "python3"
  },
  "language_info": {
   "codemirror_mode": {
    "name": "ipython",
    "version": 3
   },
   "file_extension": ".py",
   "mimetype": "text/x-python",
   "name": "python",
   "nbconvert_exporter": "python",
   "pygments_lexer": "ipython3",
   "version": "3.8.5"
  }
 },
 "nbformat": 4,
 "nbformat_minor": 4
}
